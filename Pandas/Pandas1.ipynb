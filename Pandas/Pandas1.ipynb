{
 "cells": [
  {
   "cell_type": "markdown",
   "id": "4cb87317-376b-476b-ac1f-fbcbf9523bb6",
   "metadata": {},
   "source": [
    "# 데이터 구조 다루기 "
   ]
  },
  {
   "cell_type": "markdown",
   "id": "5decd9b3-01d6-4378-822f-4d3c29a2bdba",
   "metadata": {},
   "source": [
    "* DataFrame 생성 및 구조 이해 (DataFrame, Series) \n",
    "* 열(Column) 및 행(Row) 접근, 수정, 삭제\n",
    "> df['column']<br>\n",
    "> df.loc[], df.iloc[]<br>\n",
    "> df.drop()"
   ]
  },
  {
   "cell_type": "markdown",
   "id": "440f1640-3471-4338-b0af-275eb7ed02b0",
   "metadata": {},
   "source": [
    "# DataFrame"
   ]
  },
  {
   "cell_type": "code",
   "execution_count": 1,
   "id": "a830b595-f815-4762-8ee9-aeb2597db9fb",
   "metadata": {},
   "outputs": [
    {
     "name": "stdout",
     "output_type": "stream",
     "text": [
      "      name  age     city\n",
      "0    Alice   25    Seoul\n",
      "1      Bob   30    Busan\n",
      "2  Charlie   35  Incheon\n",
      "3    David   40    Daegu\n"
     ]
    }
   ],
   "source": [
    "import pandas as pd\n",
    "\n",
    "# 예제 데이터 생성\n",
    "data = {\n",
    "    'name': ['Alice', 'Bob', 'Charlie', 'David'],\n",
    "    'age': [25, 30, 35, 40],\n",
    "    'city': ['Seoul', 'Busan', 'Incheon', 'Daegu']\n",
    "}\n",
    "\n",
    "df = pd.DataFrame(data)\n",
    "print(df)\n"
   ]
  },
  {
   "cell_type": "code",
   "execution_count": 3,
   "id": "632ca762-9fd6-42de-8cc7-9bd5ac3ff0da",
   "metadata": {},
   "outputs": [
    {
     "data": {
      "text/html": [
       "<div>\n",
       "<style scoped>\n",
       "    .dataframe tbody tr th:only-of-type {\n",
       "        vertical-align: middle;\n",
       "    }\n",
       "\n",
       "    .dataframe tbody tr th {\n",
       "        vertical-align: top;\n",
       "    }\n",
       "\n",
       "    .dataframe thead th {\n",
       "        text-align: right;\n",
       "    }\n",
       "</style>\n",
       "<table border=\"1\" class=\"dataframe\">\n",
       "  <thead>\n",
       "    <tr style=\"text-align: right;\">\n",
       "      <th></th>\n",
       "      <th>name</th>\n",
       "      <th>age</th>\n",
       "      <th>city</th>\n",
       "    </tr>\n",
       "  </thead>\n",
       "  <tbody>\n",
       "    <tr>\n",
       "      <th>0</th>\n",
       "      <td>Alice</td>\n",
       "      <td>25</td>\n",
       "      <td>Seoul</td>\n",
       "    </tr>\n",
       "    <tr>\n",
       "      <th>1</th>\n",
       "      <td>Bob</td>\n",
       "      <td>30</td>\n",
       "      <td>Busan</td>\n",
       "    </tr>\n",
       "    <tr>\n",
       "      <th>2</th>\n",
       "      <td>Bob</td>\n",
       "      <td>30</td>\n",
       "      <td>Busan</td>\n",
       "    </tr>\n",
       "    <tr>\n",
       "      <th>3</th>\n",
       "      <td>Charlie</td>\n",
       "      <td>35</td>\n",
       "      <td>Incheon</td>\n",
       "    </tr>\n",
       "  </tbody>\n",
       "</table>\n",
       "</div>"
      ],
      "text/plain": [
       "      name  age     city\n",
       "0    Alice   25    Seoul\n",
       "1      Bob   30    Busan\n",
       "2      Bob   30    Busan\n",
       "3  Charlie   35  Incheon"
      ]
     },
     "execution_count": 3,
     "metadata": {},
     "output_type": "execute_result"
    }
   ],
   "source": [
    "#다른 방법 \n",
    "list = [['Alice',25,'Seoul'],['Bob',30,'Busan'],['Bob',30,'Busan'],['Charlie',35,'Incheon']]\n",
    "\n",
    "df = pd.DataFrame(list,columns = ['name','age', 'city']) \n",
    "df.head()"
   ]
  },
  {
   "cell_type": "markdown",
   "id": "5eda6463-a003-4105-821f-6393afbe4d5a",
   "metadata": {},
   "source": [
    "# Series"
   ]
  },
  {
   "cell_type": "code",
   "execution_count": 4,
   "id": "a053b0ff-8df5-4130-af85-424236e9a973",
   "metadata": {},
   "outputs": [
    {
     "data": {
      "text/plain": [
       "0    40\n",
       "1    50\n",
       "2    60\n",
       "3    30\n",
       "4    20\n",
       "5    40\n",
       "dtype: int64"
      ]
     },
     "execution_count": 4,
     "metadata": {},
     "output_type": "execute_result"
    }
   ],
   "source": [
    "list1 = [40,50,60,30,20,40]\n",
    "ps = pd.Series(list1) \n",
    "ps"
   ]
  },
  {
   "cell_type": "code",
   "execution_count": 5,
   "id": "bf6275ad-95a3-4c1e-a564-ec617cbf8b5a",
   "metadata": {},
   "outputs": [
    {
     "data": {
      "text/plain": [
       "Alice    40\n",
       "Kim      50\n",
       "James    60\n",
       "Ann      30\n",
       "Kelly    20\n",
       "Skye     40\n",
       "dtype: int64"
      ]
     },
     "execution_count": 5,
     "metadata": {},
     "output_type": "execute_result"
    }
   ],
   "source": [
    "list1 = [40,50,60,30,20,40]\n",
    "indexs = ['Alice','Kim','James','Ann','Kelly','Skye']\n",
    "ps = pd.Series(list1,index = indexs) \n",
    "ps"
   ]
  },
  {
   "cell_type": "markdown",
   "id": "2fd49a6a-090e-412b-8ec4-b1259da4b835",
   "metadata": {},
   "source": [
    "#  df['column']"
   ]
  },
  {
   "cell_type": "code",
   "execution_count": 2,
   "id": "72543aef-759b-4aa2-8f15-dac0998f3fb2",
   "metadata": {},
   "outputs": [
    {
     "name": "stdout",
     "output_type": "stream",
     "text": [
      "0      Alice\n",
      "1        Bob\n",
      "2    Charlie\n",
      "3      David\n",
      "Name: name, dtype: object\n"
     ]
    }
   ],
   "source": [
    "# name 컬럼만 가져오기\n",
    "print(df['name'])"
   ]
  },
  {
   "cell_type": "markdown",
   "id": "75050e05-f14a-4ea8-acd1-f87e0167d6b3",
   "metadata": {},
   "source": [
    "# df.loc[] — 라벨 기반 인덱싱"
   ]
  },
  {
   "cell_type": "code",
   "execution_count": 11,
   "id": "10f8fb5e-b495-4800-bc09-4b686ae4ef1e",
   "metadata": {},
   "outputs": [
    {
     "data": {
      "text/html": [
       "<div>\n",
       "<style scoped>\n",
       "    .dataframe tbody tr th:only-of-type {\n",
       "        vertical-align: middle;\n",
       "    }\n",
       "\n",
       "    .dataframe tbody tr th {\n",
       "        vertical-align: top;\n",
       "    }\n",
       "\n",
       "    .dataframe thead th {\n",
       "        text-align: right;\n",
       "    }\n",
       "</style>\n",
       "<table border=\"1\" class=\"dataframe\">\n",
       "  <thead>\n",
       "    <tr style=\"text-align: right;\">\n",
       "      <th></th>\n",
       "      <th>name</th>\n",
       "      <th>age</th>\n",
       "      <th>city</th>\n",
       "    </tr>\n",
       "  </thead>\n",
       "  <tbody>\n",
       "    <tr>\n",
       "      <th>0</th>\n",
       "      <td>Alice</td>\n",
       "      <td>25</td>\n",
       "      <td>Seoul</td>\n",
       "    </tr>\n",
       "    <tr>\n",
       "      <th>1</th>\n",
       "      <td>Bob</td>\n",
       "      <td>30</td>\n",
       "      <td>Busan</td>\n",
       "    </tr>\n",
       "    <tr>\n",
       "      <th>2</th>\n",
       "      <td>Charlie</td>\n",
       "      <td>35</td>\n",
       "      <td>Incheon</td>\n",
       "    </tr>\n",
       "    <tr>\n",
       "      <th>3</th>\n",
       "      <td>David</td>\n",
       "      <td>40</td>\n",
       "      <td>Daegu</td>\n",
       "    </tr>\n",
       "  </tbody>\n",
       "</table>\n",
       "</div>"
      ],
      "text/plain": [
       "      name  age     city\n",
       "0    Alice   25    Seoul\n",
       "1      Bob   30    Busan\n",
       "2  Charlie   35  Incheon\n",
       "3    David   40    Daegu"
      ]
     },
     "execution_count": 11,
     "metadata": {},
     "output_type": "execute_result"
    }
   ],
   "source": [
    "df.head(5)"
   ]
  },
  {
   "cell_type": "code",
   "execution_count": 8,
   "id": "c9f5d99a-1382-4568-a975-5cb063b65aac",
   "metadata": {},
   "outputs": [
    {
     "name": "stdout",
     "output_type": "stream",
     "text": [
      "name    Charlie\n",
      "age          35\n",
      "city    Incheon\n",
      "Name: 2, dtype: object\n"
     ]
    }
   ],
   "source": [
    "# 2번째 행 (인덱스 2) 전체 가져오기\n",
    "print(df.loc[2])"
   ]
  },
  {
   "cell_type": "code",
   "execution_count": 9,
   "id": "de88832c-5623-4aed-82fb-2c349a8a8587",
   "metadata": {},
   "outputs": [
    {
     "name": "stdout",
     "output_type": "stream",
     "text": [
      "Charlie\n"
     ]
    }
   ],
   "source": [
    "# 특정 행과 열 (2번째 행, 'name' 열)\n",
    "print(df.loc[2, 'name'])"
   ]
  },
  {
   "cell_type": "code",
   "execution_count": 10,
   "id": "e9b3594f-8edb-425d-b507-25dbc0d5b7ee",
   "metadata": {},
   "outputs": [
    {
     "name": "stdout",
     "output_type": "stream",
     "text": [
      "    name   city\n",
      "1    Bob  Busan\n",
      "3  David  Daegu\n"
     ]
    }
   ],
   "source": [
    "# 여러 행과 열\n",
    "print(df.loc[[1, 3], ['name', 'city']])"
   ]
  },
  {
   "cell_type": "markdown",
   "id": "336daa96-cb98-43b0-b410-33b753615471",
   "metadata": {},
   "source": [
    "# df.iloc[] — 정수 기반 인덱싱"
   ]
  },
  {
   "cell_type": "code",
   "execution_count": 6,
   "id": "03941b04-4134-4205-89ae-d67496d02ab8",
   "metadata": {},
   "outputs": [
    {
     "data": {
      "text/html": [
       "<div>\n",
       "<style scoped>\n",
       "    .dataframe tbody tr th:only-of-type {\n",
       "        vertical-align: middle;\n",
       "    }\n",
       "\n",
       "    .dataframe tbody tr th {\n",
       "        vertical-align: top;\n",
       "    }\n",
       "\n",
       "    .dataframe thead th {\n",
       "        text-align: right;\n",
       "    }\n",
       "</style>\n",
       "<table border=\"1\" class=\"dataframe\">\n",
       "  <thead>\n",
       "    <tr style=\"text-align: right;\">\n",
       "      <th></th>\n",
       "      <th>name</th>\n",
       "      <th>age</th>\n",
       "      <th>city</th>\n",
       "    </tr>\n",
       "  </thead>\n",
       "  <tbody>\n",
       "    <tr>\n",
       "      <th>0</th>\n",
       "      <td>Alice</td>\n",
       "      <td>25</td>\n",
       "      <td>Seoul</td>\n",
       "    </tr>\n",
       "    <tr>\n",
       "      <th>1</th>\n",
       "      <td>Bob</td>\n",
       "      <td>30</td>\n",
       "      <td>Busan</td>\n",
       "    </tr>\n",
       "    <tr>\n",
       "      <th>2</th>\n",
       "      <td>Charlie</td>\n",
       "      <td>35</td>\n",
       "      <td>Incheon</td>\n",
       "    </tr>\n",
       "    <tr>\n",
       "      <th>3</th>\n",
       "      <td>David</td>\n",
       "      <td>40</td>\n",
       "      <td>Daegu</td>\n",
       "    </tr>\n",
       "  </tbody>\n",
       "</table>\n",
       "</div>"
      ],
      "text/plain": [
       "      name  age     city\n",
       "0    Alice   25    Seoul\n",
       "1      Bob   30    Busan\n",
       "2  Charlie   35  Incheon\n",
       "3    David   40    Daegu"
      ]
     },
     "execution_count": 6,
     "metadata": {},
     "output_type": "execute_result"
    }
   ],
   "source": [
    "df.head(5)"
   ]
  },
  {
   "cell_type": "code",
   "execution_count": 4,
   "id": "66074e3e-a022-448d-b769-a4a1738461f6",
   "metadata": {},
   "outputs": [
    {
     "name": "stdout",
     "output_type": "stream",
     "text": [
      "name    Charlie\n",
      "age          35\n",
      "city    Incheon\n",
      "Name: 2, dtype: object\n"
     ]
    }
   ],
   "source": [
    "# 2번째 행\n",
    "print(df.iloc[2])"
   ]
  },
  {
   "cell_type": "code",
   "execution_count": 5,
   "id": "10877866-256b-4f0b-8c64-8c24889fa45d",
   "metadata": {},
   "outputs": [
    {
     "name": "stdout",
     "output_type": "stream",
     "text": [
      "Charlie\n"
     ]
    }
   ],
   "source": [
    "# 2번째 행, 0번째 열\n",
    "print(df.iloc[2, 0])"
   ]
  },
  {
   "cell_type": "code",
   "execution_count": 7,
   "id": "6e20cd4e-70d5-4832-9d05-c068fecdcb7f",
   "metadata": {},
   "outputs": [
    {
     "name": "stdout",
     "output_type": "stream",
     "text": [
      "    name   city\n",
      "1    Bob  Busan\n",
      "3  David  Daegu\n"
     ]
    }
   ],
   "source": [
    "# 여러 행과 열\n",
    "print(df.iloc[[1, 3], [0, 2]])"
   ]
  },
  {
   "cell_type": "markdown",
   "id": "1d383042-c1f9-40f1-8c6f-32e847447bb7",
   "metadata": {},
   "source": [
    "# df.drop() — 행 또는 열 삭제"
   ]
  },
  {
   "cell_type": "code",
   "execution_count": 13,
   "id": "e3af4618-7510-4901-a1c8-a13e88f71120",
   "metadata": {},
   "outputs": [
    {
     "data": {
      "text/html": [
       "<div>\n",
       "<style scoped>\n",
       "    .dataframe tbody tr th:only-of-type {\n",
       "        vertical-align: middle;\n",
       "    }\n",
       "\n",
       "    .dataframe tbody tr th {\n",
       "        vertical-align: top;\n",
       "    }\n",
       "\n",
       "    .dataframe thead th {\n",
       "        text-align: right;\n",
       "    }\n",
       "</style>\n",
       "<table border=\"1\" class=\"dataframe\">\n",
       "  <thead>\n",
       "    <tr style=\"text-align: right;\">\n",
       "      <th></th>\n",
       "      <th>name</th>\n",
       "      <th>age</th>\n",
       "      <th>city</th>\n",
       "    </tr>\n",
       "  </thead>\n",
       "  <tbody>\n",
       "    <tr>\n",
       "      <th>0</th>\n",
       "      <td>Alice</td>\n",
       "      <td>25</td>\n",
       "      <td>Seoul</td>\n",
       "    </tr>\n",
       "    <tr>\n",
       "      <th>1</th>\n",
       "      <td>Bob</td>\n",
       "      <td>30</td>\n",
       "      <td>Busan</td>\n",
       "    </tr>\n",
       "    <tr>\n",
       "      <th>2</th>\n",
       "      <td>Charlie</td>\n",
       "      <td>35</td>\n",
       "      <td>Incheon</td>\n",
       "    </tr>\n",
       "    <tr>\n",
       "      <th>3</th>\n",
       "      <td>David</td>\n",
       "      <td>40</td>\n",
       "      <td>Daegu</td>\n",
       "    </tr>\n",
       "  </tbody>\n",
       "</table>\n",
       "</div>"
      ],
      "text/plain": [
       "      name  age     city\n",
       "0    Alice   25    Seoul\n",
       "1      Bob   30    Busan\n",
       "2  Charlie   35  Incheon\n",
       "3    David   40    Daegu"
      ]
     },
     "execution_count": 13,
     "metadata": {},
     "output_type": "execute_result"
    }
   ],
   "source": [
    "df.head(5)"
   ]
  },
  {
   "cell_type": "code",
   "execution_count": 12,
   "id": "bb8e1f56-2440-4b77-9644-8b6eae529800",
   "metadata": {},
   "outputs": [
    {
     "name": "stdout",
     "output_type": "stream",
     "text": [
      "      name  age     city\n",
      "0    Alice   25    Seoul\n",
      "2  Charlie   35  Incheon\n",
      "3    David   40    Daegu\n"
     ]
    }
   ],
   "source": [
    "# 행 삭제 (index 1)\n",
    "df_dropped_row = df.drop(index=1)\n",
    "print(df_dropped_row)"
   ]
  },
  {
   "cell_type": "code",
   "execution_count": 14,
   "id": "d93b2ce8-79b0-4a91-871f-bc604da7368e",
   "metadata": {},
   "outputs": [
    {
     "name": "stdout",
     "output_type": "stream",
     "text": [
      "      name  age\n",
      "0    Alice   25\n",
      "1      Bob   30\n",
      "2  Charlie   35\n",
      "3    David   40\n"
     ]
    }
   ],
   "source": [
    "# 열 삭제 ('city' 컬럼)\n",
    "df_dropped_col = df.drop(columns='city')\n",
    "print(df_dropped_col)"
   ]
  },
  {
   "cell_type": "code",
   "execution_count": 15,
   "id": "667c03d9-b05a-4da8-a1f2-041660b288d4",
   "metadata": {},
   "outputs": [
    {
     "name": "stdout",
     "output_type": "stream",
     "text": [
      "      name  age     city\n",
      "1      Bob   30    Busan\n",
      "2  Charlie   35  Incheon\n",
      "3    David   40    Daegu\n"
     ]
    }
   ],
   "source": [
    "# inplace=True 사용 시 원본 df가 수정됨\n",
    "df.drop(index=0, inplace=True)\n",
    "print(df)"
   ]
  }
 ],
 "metadata": {
  "kernelspec": {
   "display_name": "Python 3 (ipykernel)",
   "language": "python",
   "name": "python3"
  },
  "language_info": {
   "codemirror_mode": {
    "name": "ipython",
    "version": 3
   },
   "file_extension": ".py",
   "mimetype": "text/x-python",
   "name": "python",
   "nbconvert_exporter": "python",
   "pygments_lexer": "ipython3",
   "version": "3.10.11"
  }
 },
 "nbformat": 4,
 "nbformat_minor": 5
}
