{
 "cells": [
  {
   "cell_type": "markdown",
   "id": "6fa73902-a56c-4ac1-a20a-d0316ff10387",
   "metadata": {},
   "source": [
    "# Numpy 연습"
   ]
  },
  {
   "cell_type": "code",
   "execution_count": 1,
   "id": "d6a63be2-d9dd-41fa-89fd-a64bd9ea0a17",
   "metadata": {},
   "outputs": [],
   "source": [
    "# numpy 라이브러리 불러오기"
   ]
  },
  {
   "cell_type": "markdown",
   "id": "e62569cf-1a08-479a-8563-4260fb1db564",
   "metadata": {},
   "source": [
    "# Array"
   ]
  },
  {
   "cell_type": "markdown",
   "id": "7baeba79-c3ae-4b73-9e56-e2780eacfdcb",
   "metadata": {},
   "source": [
    "1. 다음 리스트를 NumPy 배열로 변환하세요."
   ]
  },
  {
   "cell_type": "raw",
   "id": "24479fd8-4e88-4fd3-b5ff-4e6bd5e6c4c4",
   "metadata": {},
   "source": [
    "[1, 2, 3, 4, 5]"
   ]
  },
  {
   "cell_type": "markdown",
   "id": "973a110d-dd3f-4601-b4eb-4a5a4127001b",
   "metadata": {},
   "source": [
    "2. 다음 2차원 리스트를 NumPy 배열로 변환한 뒤, shape을 출력하세요."
   ]
  },
  {
   "cell_type": "raw",
   "id": "aff636aa-5cd1-4757-a96e-d2f68a9b42db",
   "metadata": {},
   "source": [
    "[[10, 20], [30, 40], [50, 60]]"
   ]
  },
  {
   "cell_type": "markdown",
   "id": "8910417e-61cc-4c94-b249-a02057b3954d",
   "metadata": {},
   "source": [
    "3. 다음 배열을 생성하고, 두 번째 행을 출력하세요."
   ]
  },
  {
   "cell_type": "raw",
   "id": "b3f84d88-55dc-4794-8798-b8c66f0cb0a2",
   "metadata": {},
   "source": [
    "[[1, 2, 3], [4, 5, 6], [7, 8, 9]]"
   ]
  },
  {
   "cell_type": "markdown",
   "id": "f7d3b715-ad49-4e19-92b4-6e06c8c56d54",
   "metadata": {},
   "source": [
    "# Ones, Zeros"
   ]
  },
  {
   "cell_type": "markdown",
   "id": "99b21416-ef49-40bb-babe-2281bdd2573a",
   "metadata": {},
   "source": [
    "1. 모든 원소가 1인 3행 4열 배열을 만드세요."
   ]
  },
  {
   "cell_type": "code",
   "execution_count": null,
   "id": "e7fb69ae-8afe-446c-982d-079b510d07e1",
   "metadata": {},
   "outputs": [],
   "source": []
  },
  {
   "cell_type": "markdown",
   "id": "da27ab83-5876-488b-934c-3f501d3daeb0",
   "metadata": {},
   "source": [
    "2. 모든 원소가 0인 5×5 배열을 만드세요."
   ]
  },
  {
   "cell_type": "code",
   "execution_count": null,
   "id": "2b70d802-2e2f-4264-8c31-0d0e37313cf8",
   "metadata": {},
   "outputs": [],
   "source": []
  },
  {
   "cell_type": "markdown",
   "id": "d78d5054-aa80-487a-bd94-9be79f4ba7ca",
   "metadata": {},
   "source": [
    "3. zeros로 만든 3x3 배열에서 가운데 원소만 1로 바꾸세요."
   ]
  },
  {
   "cell_type": "code",
   "execution_count": null,
   "id": "e9bd8911-019c-4a33-809d-d1f32660222e",
   "metadata": {},
   "outputs": [],
   "source": []
  },
  {
   "cell_type": "markdown",
   "id": "14d6bd5e-4d4a-4994-99f6-2a8ec59d5a03",
   "metadata": {},
   "source": [
    "# Arange"
   ]
  },
  {
   "cell_type": "markdown",
   "id": "a001fafc-6d63-4c61-99be-c85ca408bf6f",
   "metadata": {},
   "source": [
    "1. 0부터 9까지의 정수를 원소로 가지는 배열을 만드세요."
   ]
  },
  {
   "cell_type": "code",
   "execution_count": null,
   "id": "583534be-dfac-436c-8d7c-6ba7031756f4",
   "metadata": {},
   "outputs": [],
   "source": []
  },
  {
   "cell_type": "markdown",
   "id": "474303bc-8cc4-4d36-8c65-c50658a83980",
   "metadata": {},
   "source": [
    "2. 10부터 30까지 2씩 증가하는 배열을 만드세요."
   ]
  },
  {
   "cell_type": "code",
   "execution_count": null,
   "id": "f1b1bf27-8310-439f-a1e6-561c9fea25fe",
   "metadata": {},
   "outputs": [],
   "source": []
  },
  {
   "cell_type": "markdown",
   "id": "55a63394-6fdc-4055-9437-b85de4f9cd90",
   "metadata": {},
   "source": [
    "3. 1부터 12까지의 정수로 이루어진 배열을 만든 뒤, 3행 4열로 reshape 하세요."
   ]
  },
  {
   "cell_type": "code",
   "execution_count": null,
   "id": "50da777e-75e4-4042-8604-d6121fcac673",
   "metadata": {},
   "outputs": [],
   "source": []
  },
  {
   "cell_type": "code",
   "execution_count": null,
   "id": "171eba50-989b-4d99-b7bf-4a42eefdc49b",
   "metadata": {},
   "outputs": [],
   "source": []
  }
 ],
 "metadata": {
  "kernelspec": {
   "display_name": "Python 3 (ipykernel)",
   "language": "python",
   "name": "python3"
  },
  "language_info": {
   "codemirror_mode": {
    "name": "ipython",
    "version": 3
   },
   "file_extension": ".py",
   "mimetype": "text/x-python",
   "name": "python",
   "nbconvert_exporter": "python",
   "pygments_lexer": "ipython3",
   "version": "3.10.11"
  }
 },
 "nbformat": 4,
 "nbformat_minor": 5
}
